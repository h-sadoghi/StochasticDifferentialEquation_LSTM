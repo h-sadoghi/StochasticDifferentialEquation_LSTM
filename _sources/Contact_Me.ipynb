{
 "cells": [
  {
   "cell_type": "markdown",
   "metadata": {},
   "source": [
    "# Contact Me"
   ]
  },
  {
   "cell_type": "markdown",
   "metadata": {},
   "source": [
    " Ways of communication with **Dr. Hadi Sadoghi Yazdi**"
   ]
  },
  {
   "cell_type": "markdown",
   "metadata": {},
   "source": [
    "- **Address:**  [Ferdowsi University of Mashhad, Mashahd, Iran](https://maps.google.com/?q=Ferdowsi%20University%20of%20Mashhad,%20Mashhad,%20Iran,%20P.%20O.%20Box:%2091779-48974), P. O. Box: 91779-48974\n",
    "\n",
    "<!-- **Tel (Landline):** [+98-513-8805117](tel:+985138805117) -->\n",
    "- **E-mail:** [h-sadoghi[at]um.ac.ir](mailto:h-sadoghi@um.ac.ir)"
   ]
  }
 ],
 "metadata": {
  "language_info": {
   "name": "python"
  }
 },
 "nbformat": 4,
 "nbformat_minor": 2
}
